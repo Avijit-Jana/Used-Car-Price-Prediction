{
 "cells": [
  {
   "cell_type": "markdown",
   "metadata": {},
   "source": [
    "# Importing Libraries"
   ]
  },
  {
   "cell_type": "code",
   "execution_count": 2,
   "metadata": {},
   "outputs": [],
   "source": [
    "import pandas as pd\n",
    "import numpy as np\n",
    "from sklearn.model_selection import train_test_split, cross_val_score, RandomizedSearchCV\n",
    "from sklearn.linear_model import LinearRegression\n",
    "from sklearn.tree import DecisionTreeRegressor\n",
    "from sklearn.ensemble import RandomForestRegressor, GradientBoostingRegressor\n",
    "from sklearn.metrics import mean_absolute_error, mean_squared_error, r2_score\n",
    "from sklearn.preprocessing import StandardScaler\n",
    "\n",
    "# reading the data from the file\n",
    "df = pd.read_excel('D:\\\\Programming\\\\GUVI PROJECTS CODE\\\\PROJECT - 3\\\\Data Preprocessing & Cleaning\\\\encoded_car_data.xlsx')"
   ]
  },
  {
   "cell_type": "markdown",
   "metadata": {},
   "source": [
    "# Model Selection"
   ]
  },
  {
   "cell_type": "code",
   "execution_count": 3,
   "metadata": {},
   "outputs": [],
   "source": [
    "X = df.drop('price',axis=1)         # features\n",
    "y = df['price']                     # target\n",
    "\n",
    "# splitting the data into training and testing data \n",
    "X_train, X_test, y_train, y_test = train_test_split(X, y, test_size=0.2, random_state=42)\n",
    "\n",
    "# dictionary of models to be used for training\n",
    "models = {  \n",
    "    'Linear Regression': LinearRegression(),\n",
    "    'Decision Tree': DecisionTreeRegressor(),\n",
    "    'Random Forest': RandomForestRegressor(),\n",
    "    'Gradient Boosting': GradientBoostingRegressor(),\n",
    "}"
   ]
  },
  {
   "cell_type": "markdown",
   "metadata": {},
   "source": [
    "# Model Training"
   ]
  },
  {
   "cell_type": "code",
   "execution_count": 4,
   "metadata": {},
   "outputs": [
    {
     "name": "stdout",
     "output_type": "stream",
     "text": [
      "Cross-Validation Results:\n",
      "Linear Regression: 0.7230 (R^2)\n",
      "Decision Tree: 0.8473 (R^2)\n",
      "Random Forest: 0.9203 (R^2)\n",
      "Gradient Boosting: 0.9020 (R^2)\n"
     ]
    }
   ],
   "source": [
    "# Model Training with Cross-validation\n",
    "results = {}\n",
    "for name, model in models.items():\n",
    "    scores = cross_val_score(model, X_train, y_train, cv=5, scoring='r2')\n",
    "    results[name] = scores.mean()\n",
    "\n",
    "print(\"Cross-Validation Results:\")\n",
    "for model_name, cv_score in results.items():\n",
    "    print(f\"{model_name}: {cv_score:.4f} (R^2)\")"
   ]
  },
  {
   "cell_type": "markdown",
   "metadata": {},
   "source": [
    "# Model Comparison"
   ]
  },
  {
   "cell_type": "code",
   "execution_count": 5,
   "metadata": {},
   "outputs": [
    {
     "data": {
      "text/html": [
       "<div>\n",
       "<style scoped>\n",
       "    .dataframe tbody tr th:only-of-type {\n",
       "        vertical-align: middle;\n",
       "    }\n",
       "\n",
       "    .dataframe tbody tr th {\n",
       "        vertical-align: top;\n",
       "    }\n",
       "\n",
       "    .dataframe thead th {\n",
       "        text-align: right;\n",
       "    }\n",
       "</style>\n",
       "<table border=\"1\" class=\"dataframe\">\n",
       "  <thead>\n",
       "    <tr style=\"text-align: right;\">\n",
       "      <th></th>\n",
       "      <th>Model</th>\n",
       "      <th>MAE</th>\n",
       "      <th>MSE</th>\n",
       "      <th>R2 Score</th>\n",
       "    </tr>\n",
       "  </thead>\n",
       "  <tbody>\n",
       "    <tr>\n",
       "      <th>0</th>\n",
       "      <td>Linear Regression</td>\n",
       "      <td>0.171969</td>\n",
       "      <td>0.082537</td>\n",
       "      <td>0.678972</td>\n",
       "    </tr>\n",
       "    <tr>\n",
       "      <th>1</th>\n",
       "      <td>Decision Tree Regressor</td>\n",
       "      <td>0.100213</td>\n",
       "      <td>0.038850</td>\n",
       "      <td>0.848893</td>\n",
       "    </tr>\n",
       "    <tr>\n",
       "      <th>2</th>\n",
       "      <td>Random Forest Regressor</td>\n",
       "      <td>0.076982</td>\n",
       "      <td>0.022795</td>\n",
       "      <td>0.911341</td>\n",
       "    </tr>\n",
       "    <tr>\n",
       "      <th>3</th>\n",
       "      <td>Gradient Boosting Regressor</td>\n",
       "      <td>0.096632</td>\n",
       "      <td>0.032127</td>\n",
       "      <td>0.875044</td>\n",
       "    </tr>\n",
       "  </tbody>\n",
       "</table>\n",
       "</div>"
      ],
      "text/plain": [
       "                         Model       MAE       MSE  R2 Score\n",
       "0            Linear Regression  0.171969  0.082537  0.678972\n",
       "1      Decision Tree Regressor  0.100213  0.038850  0.848893\n",
       "2      Random Forest Regressor  0.076982  0.022795  0.911341\n",
       "3  Gradient Boosting Regressor  0.096632  0.032127  0.875044"
      ]
     },
     "execution_count": 5,
     "metadata": {},
     "output_type": "execute_result"
    }
   ],
   "source": [
    "# Comparing the models based on evaluation metrics to select the best performing model\n",
    "models = ['Linear Regression', 'Decision Tree Regressor', 'Random Forest Regressor', 'Gradient Boosting Regressor']\n",
    "\n",
    "# Training the models\n",
    "lr = LinearRegression().fit(X_train, y_train)\n",
    "dt = DecisionTreeRegressor().fit(X_train, y_train)\n",
    "rf = RandomForestRegressor().fit(X_train, y_train)\n",
    "gb = GradientBoostingRegressor().fit(X_train, y_train)\n",
    "\n",
    "# Evaluating the models\n",
    "mae = [mean_absolute_error(y_test, lr.predict(X_test)),\n",
    "    mean_absolute_error(y_test, dt.predict(X_test)),\n",
    "    mean_absolute_error(y_test, rf.predict(X_test)),\n",
    "    mean_absolute_error(y_test, gb.predict(X_test))]\n",
    "\n",
    "mse = [mean_squared_error(y_test, lr.predict(X_test)),\n",
    "    mean_squared_error(y_test, dt.predict(X_test)),\n",
    "    mean_squared_error(y_test, rf.predict(X_test)),\n",
    "    mean_squared_error(y_test, gb.predict(X_test))]\n",
    "\n",
    "r2 = [r2_score(y_test, lr.predict(X_test)),\n",
    "      r2_score(y_test, dt.predict(X_test)),\n",
    "      r2_score(y_test, rf.predict(X_test)),\n",
    "      r2_score(y_test, gb.predict(X_test))]\n",
    "\n",
    "comparison_df = pd.DataFrame({'Model': models, 'MAE': mae, 'MSE': mse, 'R2 Score': r2})\n",
    "comparison_df\n"
   ]
  },
  {
   "cell_type": "markdown",
   "metadata": {},
   "source": [
    "### After comparing the models, we can see that the Random Forest Regressor has the best performance based on the evaluation metrics."
   ]
  },
  {
   "cell_type": "code",
   "execution_count": 7,
   "metadata": {},
   "outputs": [],
   "source": [
    "# Saving the model in a pickle file\n",
    "import pickle\n",
    "with open('model.pkl', 'wb') as f:\n",
    "    pickle.dump(rf, f)"
   ]
  }
 ],
 "metadata": {
  "kernelspec": {
   "display_name": "Python 3",
   "language": "python",
   "name": "python3"
  },
  "language_info": {
   "codemirror_mode": {
    "name": "ipython",
    "version": 3
   },
   "file_extension": ".py",
   "mimetype": "text/x-python",
   "name": "python",
   "nbconvert_exporter": "python",
   "pygments_lexer": "ipython3",
   "version": "3.12.3"
  }
 },
 "nbformat": 4,
 "nbformat_minor": 2
}
