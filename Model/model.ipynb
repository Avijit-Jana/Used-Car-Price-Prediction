{
 "cells": [
  {
   "cell_type": "markdown",
   "metadata": {},
   "source": [
    "## Importing Libraries"
   ]
  },
  {
   "cell_type": "code",
   "execution_count": 1,
   "metadata": {},
   "outputs": [],
   "source": [
    "import pandas as pd\n",
    "import numpy as np\n",
    "from sklearn.model_selection import train_test_split, cross_val_score, RandomizedSearchCV\n",
    "from sklearn.linear_model import LinearRegression\n",
    "from sklearn.tree import DecisionTreeRegressor\n",
    "from sklearn.ensemble import RandomForestRegressor, GradientBoostingRegressor\n",
    "from sklearn.metrics import mean_absolute_error, mean_squared_error, r2_score\n",
    "from sklearn.preprocessing import StandardScaler\n",
    "\n",
    "# reading the data from the file\n",
    "df = pd.read_excel('D:\\\\Programming\\\\GUVI PROJECTS CODE\\\\PROJECT - 3\\\\Data Preprocessing & Cleaning\\\\all_city.xlsx')"
   ]
  },
  {
   "cell_type": "markdown",
   "metadata": {},
   "source": [
    "## Model Selection"
   ]
  },
  {
   "cell_type": "code",
   "execution_count": 2,
   "metadata": {},
   "outputs": [],
   "source": [
    "X = df.drop('price',axis=1)         # features\n",
    "y = df['price']                     # target\n",
    "\n",
    "# splitting the data into training and testing data \n",
    "X_train, X_test, y_train, y_test = train_test_split(X, y, test_size=0.2, random_state=42)\n",
    "\n",
    "# dictionary of models to be used for training\n",
    "models = {  \n",
    "    'Linear Regression': LinearRegression(),\n",
    "    'Decision Tree': DecisionTreeRegressor(),\n",
    "    'Random Forest': RandomForestRegressor(),\n",
    "    'Gradient Boosting': GradientBoostingRegressor(),\n",
    "}"
   ]
  },
  {
   "cell_type": "markdown",
   "metadata": {},
   "source": [
    "## Model Training"
   ]
  },
  {
   "cell_type": "code",
   "execution_count": null,
   "metadata": {},
   "outputs": [],
   "source": [
    "# Model Training with Cross-validation\n",
    "results = {}\n",
    "for name, model in models.items():\n",
    "    scores = cross_val_score(model, X_train, y_train, cv=5, scoring='r2')\n",
    "    results[name] = scores.mean()\n",
    "\n",
    "print(\"Cross-Validation Results:\")\n",
    "for model_name, cv_score in results.items():\n",
    "    print(f\"{model_name}: {cv_score:.4f} (R^2)\")"
   ]
  },
  {
   "cell_type": "markdown",
   "metadata": {},
   "source": [
    "## Model Comparison"
   ]
  },
  {
   "cell_type": "code",
   "execution_count": null,
   "metadata": {},
   "outputs": [],
   "source": [
    "# Comparing the models based on evaluation metrics to select the best performing model\n",
    "models = ['Linear Regression', 'Decision Tree Regressor', 'Random Forest Regressor', 'Gradient Boosting Regressor']\n",
    "\n",
    "lr = LinearRegression().fit(X_train, y_train)\n",
    "dt = DecisionTreeRegressor().fit(X_train, y_train)\n",
    "rf = RandomForestRegressor().fit(X_train, y_train)\n",
    "gb = GradientBoostingRegressor().fit(X_train, y_train)\n",
    "\n",
    "\n",
    "mae = [mean_absolute_error(y_test, lr.predict(X_test)),\n",
    "    mean_absolute_error(y_test, dt.predict(X_test)),\n",
    "    mean_absolute_error(y_test, rf.predict(X_test)),\n",
    "    mean_absolute_error(y_test, gb.predict(X_test))]\n",
    "\n",
    "mse = [mean_squared_error(y_test, lr.predict(X_test)),\n",
    "    mean_squared_error(y_test, dt.predict(X_test)),\n",
    "    mean_squared_error(y_test, rf.predict(X_test)),\n",
    "    mean_squared_error(y_test, gb.predict(X_test))]\n",
    "\n",
    "r2 = [r2_score(y_test, lr.predict(X_test)),\n",
    "      r2_score(y_test, dt.predict(X_test)),\n",
    "      r2_score(y_test, rf.predict(X_test)),\n",
    "      r2_score(y_test, gb.predict(X_test))]\n",
    "\n",
    "comparison_df = pd.DataFrame({'Model': models, 'MAE': mae, 'MSE': mse, 'R2 Score': r2})\n",
    "comparison_df\n"
   ]
  },
  {
   "cell_type": "markdown",
   "metadata": {},
   "source": [
    "## Optimization"
   ]
  },
  {
   "cell_type": "markdown",
   "metadata": {},
   "source": [
    "### Hyperparameter Tuning"
   ]
  },
  {
   "cell_type": "code",
   "execution_count": null,
   "metadata": {},
   "outputs": [],
   "source": [
    "import numpy as np\n",
    "from sklearn.ensemble import RandomForestRegressor\n",
    "from sklearn.model_selection import RandomizedSearchCV\n",
    "from sklearn.metrics import mean_squared_error, r2_score\n",
    "\n",
    "# Define the parameter distribution\n",
    "param_dist = {\n",
    "    'n_estimators': np.arange(50, 301, 50),  # Number of trees\n",
    "    'max_depth': [None] + list(np.arange(10,31, 5)),  # Maximum depth of trees\n",
    "    'min_samples_split': np.arange(2, 5, 10),  # Minimum samples required to split an internal node\n",
    "    'min_samples_leaf': np.arange(1, 2, 4),  # Minimum samples required at a leaf node\n",
    "    'max_features': ['auto', 'sqrt'],  # Number of features to consider for best split\n",
    "    'bootstrap': [True, False]  # Whether to use bootstrap samples\n",
    "}\n",
    "\n",
    "# Setup RandomizedSearchCV\n",
    "random_search = RandomizedSearchCV(\n",
    "    estimator=RandomForestRegressor(),\n",
    "    param_distributions=param_dist,\n",
    "    n_iter=20,  # Number of parameter settings that are sampled\n",
    "    cv=3,  # 3-fold cross-validation\n",
    "    verbose=2,  # Control the verbosity\n",
    "    random_state=42,  # For reproducibility\n",
    "    n_jobs=-1  # Use all available cores\n",
    ")\n",
    "\n",
    "try:\n",
    "    # Fit RandomizedSearchCV\n",
    "    random_search.fit(X_train, y_train)\n",
    "\n",
    "    # Get the best parameters\n",
    "    best_params = random_search.best_params_\n",
    "    print(f\"Best parameters: {best_params}\")\n",
    "\n",
    "    # Evaluate the best model\n",
    "    best_rf_model = random_search.best_estimator_\n",
    "\n",
    "    # Make predictions on the test set\n",
    "    y_pred = best_rf_model.predict(X_test)\n",
    "\n",
    "    # Evaluate performance\n",
    "    mse = mean_squared_error(y_test, y_pred)\n",
    "    r2 = r2_score(y_test, y_pred)\n",
    "\n",
    "    print(f\"Mean Squared Error (MSE) of the best model: {mse}\")\n",
    "    print(f\"R-squared (R²) of the best model: {r2}\")\n",
    "except Exception as e:\n",
    "    print(f\"An error occurred: {e}\")"
   ]
  },
  {
   "cell_type": "markdown",
   "metadata": {},
   "source": [
    "### Feature Engineering"
   ]
  },
  {
   "cell_type": "code",
   "execution_count": null,
   "metadata": {},
   "outputs": [],
   "source": [
    "# As we can see Random Forest performs better than others so we choose that model\n",
    "\n",
    "# Drop low-importance features based on your domain knowledge and feature importance scores\n",
    "X_optimized = X.drop(columns=['Fuel type', 'Ownership details', 'ownerNo', 'Insurance Validity', 'Body type'])\n",
    "\n",
    "importances = rf.feature_importances_\n",
    "feature_importance = pd.Series(importances, index=X.columns).sort_values(ascending=False)\n",
    "print(feature_importance)\n"
   ]
  },
  {
   "cell_type": "code",
   "execution_count": 6,
   "metadata": {},
   "outputs": [],
   "source": [
    "# Regularization"
   ]
  },
  {
   "cell_type": "code",
   "execution_count": 7,
   "metadata": {},
   "outputs": [],
   "source": [
    "# # Saving the model into a pickle file\n",
    "# import pickle\n",
    "# with open('D:\\\\Programming\\\\GUVI PROJECTS CODE\\\\PROJECT - 3\\\\Model\\\\model.pkl', 'wb') as f:\n",
    "#     pickle.dump(rf, f)"
   ]
  }
 ],
 "metadata": {
  "kernelspec": {
   "display_name": "Python 3",
   "language": "python",
   "name": "python3"
  },
  "language_info": {
   "codemirror_mode": {
    "name": "ipython",
    "version": 3
   },
   "file_extension": ".py",
   "mimetype": "text/x-python",
   "name": "python",
   "nbconvert_exporter": "python",
   "pygments_lexer": "ipython3",
   "version": "3.12.3"
  }
 },
 "nbformat": 4,
 "nbformat_minor": 2
}
