{
 "cells": [
  {
   "cell_type": "markdown",
   "metadata": {},
   "source": [
    "# Importing Libraries"
   ]
  },
  {
   "cell_type": "code",
   "execution_count": 5,
   "metadata": {},
   "outputs": [],
   "source": [
    "import pickle\n",
    "import pandas as pd\n",
    "import numpy as np\n",
    "from sklearn.model_selection import train_test_split, cross_val_score, RandomizedSearchCV\n",
    "from sklearn.linear_model import LinearRegression\n",
    "from sklearn.tree import DecisionTreeRegressor\n",
    "from sklearn.ensemble import RandomForestRegressor, GradientBoostingRegressor\n",
    "from sklearn.metrics import mean_absolute_error, mean_squared_error, r2_score\n",
    "from sklearn.preprocessing import MinMaxScaler\n",
    "\n",
    "# reading the data from the file\n",
    "df = pd.read_excel('../Data Preprocessing & Cleaning/encoded_car_data.xlsx')"
   ]
  },
  {
   "cell_type": "markdown",
   "metadata": {},
   "source": [
    "# Normalizing Numerical Features"
   ]
  },
  {
   "cell_type": "code",
   "execution_count": 7,
   "metadata": {},
   "outputs": [
    {
     "data": {
      "text/html": [
       "<div>\n",
       "<style scoped>\n",
       "    .dataframe tbody tr th:only-of-type {\n",
       "        vertical-align: middle;\n",
       "    }\n",
       "\n",
       "    .dataframe tbody tr th {\n",
       "        vertical-align: top;\n",
       "    }\n",
       "\n",
       "    .dataframe thead th {\n",
       "        text-align: right;\n",
       "    }\n",
       "</style>\n",
       "<table border=\"1\" class=\"dataframe\">\n",
       "  <thead>\n",
       "    <tr style=\"text-align: right;\">\n",
       "      <th></th>\n",
       "      <th>Fuel type</th>\n",
       "      <th>Body type</th>\n",
       "      <th>Kilometers driven</th>\n",
       "      <th>transmission</th>\n",
       "      <th>ownerNo</th>\n",
       "      <th>model</th>\n",
       "      <th>modelYear</th>\n",
       "      <th>variantName</th>\n",
       "      <th>price</th>\n",
       "      <th>Registration Year</th>\n",
       "      <th>Insurance Validity</th>\n",
       "      <th>Mileage(kmpl)</th>\n",
       "      <th>Engine(CC)</th>\n",
       "      <th>Max Power(bhp)</th>\n",
       "      <th>Torque(Nm)</th>\n",
       "      <th>City</th>\n",
       "    </tr>\n",
       "  </thead>\n",
       "  <tbody>\n",
       "    <tr>\n",
       "      <th>0</th>\n",
       "      <td>4</td>\n",
       "      <td>3</td>\n",
       "      <td>120000</td>\n",
       "      <td>1</td>\n",
       "      <td>3</td>\n",
       "      <td>135</td>\n",
       "      <td>2015</td>\n",
       "      <td>1616</td>\n",
       "      <td>400000.0</td>\n",
       "      <td>2015</td>\n",
       "      <td>5</td>\n",
       "      <td>23.1</td>\n",
       "      <td>998</td>\n",
       "      <td>67.04</td>\n",
       "      <td>90.0</td>\n",
       "      <td>0</td>\n",
       "    </tr>\n",
       "    <tr>\n",
       "      <th>1</th>\n",
       "      <td>4</td>\n",
       "      <td>7</td>\n",
       "      <td>32706</td>\n",
       "      <td>1</td>\n",
       "      <td>2</td>\n",
       "      <td>41</td>\n",
       "      <td>2018</td>\n",
       "      <td>279</td>\n",
       "      <td>811000.0</td>\n",
       "      <td>2018</td>\n",
       "      <td>2</td>\n",
       "      <td>17.0</td>\n",
       "      <td>1497</td>\n",
       "      <td>121.31</td>\n",
       "      <td>150.0</td>\n",
       "      <td>0</td>\n",
       "    </tr>\n",
       "  </tbody>\n",
       "</table>\n",
       "</div>"
      ],
      "text/plain": [
       "   Fuel type  Body type  Kilometers driven  ...  Max Power(bhp)  Torque(Nm)  City\n",
       "0          4          3             120000  ...           67.04        90.0     0\n",
       "1          4          7              32706  ...          121.31       150.0     0\n",
       "\n",
       "[2 rows x 16 columns]"
      ]
     },
     "execution_count": 7,
     "metadata": {},
     "output_type": "execute_result"
    }
   ],
   "source": [
    "X = df.drop('price',axis=1)         # features\n",
    "y = df['price']                     # target\n",
    "\n",
    "# splitting the data into training and testing data \n",
    "X_train, X_test, y_train, y_test = train_test_split(X, y, test_size=0.2, random_state=42)\n",
    "\n",
    "scaler = MinMaxScaler()                     # creating an object of StandardScaler class \n",
    "X_train = scaler.fit_transform(X_train)     # scaling the columns \n",
    "\n",
    "# saving the scaler object\n",
    "with open('scaler.pkl', 'wb') as file:\n",
    "    pickle.dump(scaler, file)\n",
    "\n",
    "X_test = scaler.transform(X_test)     # scaling the columns    \n",
    "\n",
    "df.head(2) # printing the first 2 rows of the dataframe"
   ]
  },
  {
   "cell_type": "markdown",
   "metadata": {},
   "source": [
    "# Model Training"
   ]
  },
  {
   "cell_type": "code",
   "execution_count": 8,
   "metadata": {},
   "outputs": [
    {
     "name": "stdout",
     "output_type": "stream",
     "text": [
      "Cross-Validation Results:\n",
      "Linear Regression: 0.7131 (R^2)\n",
      "Decision Tree: 0.8446 (R^2)\n",
      "Random Forest: 0.9154 (R^2)\n",
      "Gradient Boosting: 0.8900 (R^2)\n"
     ]
    }
   ],
   "source": [
    "# dictionary of models to be used for training\n",
    "models = {  \n",
    "    'Linear Regression': LinearRegression(),\n",
    "    'Decision Tree': DecisionTreeRegressor(),\n",
    "    'Random Forest': RandomForestRegressor(),\n",
    "    'Gradient Boosting': GradientBoostingRegressor(),\n",
    "}\n",
    "\n",
    "# Model Training with Cross-validation\n",
    "results = {}\n",
    "for name, model in models.items():\n",
    "    scores = cross_val_score(model, X_train, y_train, cv=5, scoring='r2')\n",
    "    results[name] = scores.mean()\n",
    "\n",
    "print(\"Cross-Validation Results:\")\n",
    "for model_name, cv_score in results.items():\n",
    "    print(f\"{model_name}: {cv_score:.4f} (R^2)\")"
   ]
  },
  {
   "cell_type": "markdown",
   "metadata": {},
   "source": [
    "# Model Comparison"
   ]
  },
  {
   "cell_type": "code",
   "execution_count": 9,
   "metadata": {},
   "outputs": [
    {
     "data": {
      "text/html": [
       "<div>\n",
       "<style scoped>\n",
       "    .dataframe tbody tr th:only-of-type {\n",
       "        vertical-align: middle;\n",
       "    }\n",
       "\n",
       "    .dataframe tbody tr th {\n",
       "        vertical-align: top;\n",
       "    }\n",
       "\n",
       "    .dataframe thead th {\n",
       "        text-align: right;\n",
       "    }\n",
       "</style>\n",
       "<table border=\"1\" class=\"dataframe\">\n",
       "  <thead>\n",
       "    <tr style=\"text-align: right;\">\n",
       "      <th></th>\n",
       "      <th>Model</th>\n",
       "      <th>MAE</th>\n",
       "      <th>MSE</th>\n",
       "      <th>R2 Score</th>\n",
       "    </tr>\n",
       "  </thead>\n",
       "  <tbody>\n",
       "    <tr>\n",
       "      <th>0</th>\n",
       "      <td>Linear Regression</td>\n",
       "      <td>226931.317456</td>\n",
       "      <td>1.318767e+11</td>\n",
       "      <td>0.721803</td>\n",
       "    </tr>\n",
       "    <tr>\n",
       "      <th>1</th>\n",
       "      <td>Decision Tree Regressor</td>\n",
       "      <td>130825.185749</td>\n",
       "      <td>6.340264e+10</td>\n",
       "      <td>0.866251</td>\n",
       "    </tr>\n",
       "    <tr>\n",
       "      <th>2</th>\n",
       "      <td>Random Forest Regressor</td>\n",
       "      <td>98562.405698</td>\n",
       "      <td>3.274189e+10</td>\n",
       "      <td>0.930930</td>\n",
       "    </tr>\n",
       "    <tr>\n",
       "      <th>3</th>\n",
       "      <td>Gradient Boosting Regressor</td>\n",
       "      <td>121511.324253</td>\n",
       "      <td>4.371563e+10</td>\n",
       "      <td>0.907781</td>\n",
       "    </tr>\n",
       "  </tbody>\n",
       "</table>\n",
       "</div>"
      ],
      "text/plain": [
       "                         Model            MAE           MSE  R2 Score\n",
       "0            Linear Regression  226931.317456  1.318767e+11  0.721803\n",
       "1      Decision Tree Regressor  130825.185749  6.340264e+10  0.866251\n",
       "2      Random Forest Regressor   98562.405698  3.274189e+10  0.930930\n",
       "3  Gradient Boosting Regressor  121511.324253  4.371563e+10  0.907781"
      ]
     },
     "execution_count": 9,
     "metadata": {},
     "output_type": "execute_result"
    }
   ],
   "source": [
    "# Comparing the models based on evaluation metrics to select the best performing model\n",
    "models = ['Linear Regression', 'Decision Tree Regressor', 'Random Forest Regressor', 'Gradient Boosting Regressor']\n",
    "\n",
    "# Training the models\n",
    "lr = LinearRegression().fit(X_train, y_train)\n",
    "dt = DecisionTreeRegressor().fit(X_train, y_train)\n",
    "rf = RandomForestRegressor().fit(X_train, y_train)\n",
    "gb = GradientBoostingRegressor().fit(X_train, y_train)\n",
    "\n",
    "# Evaluating the models\n",
    "mae = [mean_absolute_error(y_test, lr.predict(X_test)),\n",
    "    mean_absolute_error(y_test, dt.predict(X_test)),\n",
    "    mean_absolute_error(y_test, rf.predict(X_test)),\n",
    "    mean_absolute_error(y_test, gb.predict(X_test))]\n",
    "\n",
    "mse = [mean_squared_error(y_test, lr.predict(X_test)),\n",
    "    mean_squared_error(y_test, dt.predict(X_test)),\n",
    "    mean_squared_error(y_test, rf.predict(X_test)),\n",
    "    mean_squared_error(y_test, gb.predict(X_test))]\n",
    "\n",
    "r2 = [r2_score(y_test, lr.predict(X_test)),\n",
    "      r2_score(y_test, dt.predict(X_test)),\n",
    "      r2_score(y_test, rf.predict(X_test)),\n",
    "      r2_score(y_test, gb.predict(X_test))]\n",
    "\n",
    "comparison_df = pd.DataFrame({'Model': models, 'MAE': mae, 'MSE': mse, 'R2 Score': r2})\n",
    "comparison_df"
   ]
  },
  {
   "cell_type": "markdown",
   "metadata": {},
   "source": [
    "### After comparing the models, we can see that the Random Forest Regressor has the best performance based on the evaluation metrics."
   ]
  },
  {
   "cell_type": "code",
   "execution_count": 10,
   "metadata": {},
   "outputs": [],
   "source": [
    "# Saving the model in a pickle file\n",
    "import pickle\n",
    "with open('model.pkl', 'wb') as f:\n",
    "    pickle.dump(rf, f)"
   ]
  }
 ],
 "metadata": {
  "kernelspec": {
   "display_name": "Python 3",
   "language": "python",
   "name": "python3"
  },
  "language_info": {
   "codemirror_mode": {
    "name": "ipython",
    "version": 3
   },
   "file_extension": ".py",
   "mimetype": "text/x-python",
   "name": "python",
   "nbconvert_exporter": "python",
   "pygments_lexer": "ipython3",
   "version": "3.12.3"
  }
 },
 "nbformat": 4,
 "nbformat_minor": 2
}
